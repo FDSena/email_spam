{
 "cells": [
  {
   "cell_type": "markdown",
   "id": "82a9f995",
   "metadata": {},
   "source": [
    "# Spam Mails Dataset"
   ]
  },
  {
   "cell_type": "markdown",
   "id": "351e9622",
   "metadata": {},
   "source": [
    "# Introduction\n",
    "\n",
    "Ce projet s'appuie sur un dataset public provenant de Kaggle, dédié à l'étude de la détection automatique de spams dans les emails. L'objectif est de montrer comment utiliser le machine learning pour séparer efficacement les messages légitimes (ham) des spams.\n",
    "\n",
    "## Description du dataset\n",
    "\n",
    "- **text** : le contenu de l'email (texte brut)\n",
    "- **label_num** : l'étiquette numérique (1 = spam, 0 = ham)\n",
    "\n",
    "Exemple de répartition des labels :\n",
    "\n",
    "- Environ 71% des emails sont des ham (légitimes), 29% sont des spams.\n",
    "- Le dataset contient 5170 emails, dont 4993 uniques.\n",
    "\n",
    "Exemples :\n",
    "- `0, ham, Subject: enron methanol ...` (email légitime)\n",
    "- `1, spam, Subject: photoshop, windows, office ...` (email spam)\n",
    "\n",
    "## Démarche du projet\n",
    "\n",
    "1. **Nettoyage des données** :\n",
    "   - Suppression des colonnes inutiles (par exemple, 'Unnamed: 0', 'label') pour ne garder que l'essentiel à l'étude.\n",
    "   - Nettoyage du texte (mise en minuscules, suppression de la ponctuation, des chiffres, des stopwords).\n",
    "   - Ces étapes permettent de se concentrer sur l'information utile pour la détection du spam.\n",
    "\n",
    "2. **Analyse exploratoire** :\n",
    "   - Étude de la répartition des classes, de la longueur des messages, etc.\n",
    "\n",
    "3. **Préparation et vectorisation** :\n",
    "   - Transformation des textes en vecteurs numériques (TF-IDF).\n",
    "\n",
    "4. **Modélisation** :\n",
    "   - Entraînement et comparaison de plusieurs modèles (Naive Bayes, Random Forest, SVM, XGBoost, MLP PyTorch, etc.).\n",
    "   - Optimisation des hyperparamètres (GridSearchCV).\n",
    "\n",
    "5. **Évaluation** :\n",
    "   - Matrices de confusion, courbes de loss, analyse des erreurs.\n",
    "\n",
    "\n",
    "---\n",
    "Ce notebook illustre ainsi la capacité à gérer un projet complet de machine learning sur des données textuelles, depuis l'import jusqu'à l'interprétation des résultats, dans une optique professionnelle (stage ou recrutement)."
   ]
  },
  {
   "cell_type": "code",
   "execution_count": 1,
   "id": "19ed193a",
   "metadata": {},
   "outputs": [],
   "source": [
    "import pandas as pd"
   ]
  },
  {
   "cell_type": "code",
   "execution_count": 2,
   "id": "5f5e16da",
   "metadata": {},
   "outputs": [],
   "source": [
    "df = pd.read_csv(\"data/spam_ham_dataset.csv\")"
   ]
  },
  {
   "cell_type": "code",
   "execution_count": 3,
   "id": "b7d71349",
   "metadata": {},
   "outputs": [
    {
     "data": {
      "text/html": [
       "<div>\n",
       "<style scoped>\n",
       "    .dataframe tbody tr th:only-of-type {\n",
       "        vertical-align: middle;\n",
       "    }\n",
       "\n",
       "    .dataframe tbody tr th {\n",
       "        vertical-align: top;\n",
       "    }\n",
       "\n",
       "    .dataframe thead th {\n",
       "        text-align: right;\n",
       "    }\n",
       "</style>\n",
       "<table border=\"1\" class=\"dataframe\">\n",
       "  <thead>\n",
       "    <tr style=\"text-align: right;\">\n",
       "      <th></th>\n",
       "      <th>Unnamed: 0</th>\n",
       "      <th>label</th>\n",
       "      <th>text</th>\n",
       "      <th>label_num</th>\n",
       "    </tr>\n",
       "  </thead>\n",
       "  <tbody>\n",
       "    <tr>\n",
       "      <th>0</th>\n",
       "      <td>605</td>\n",
       "      <td>ham</td>\n",
       "      <td>Subject: enron methanol ; meter # : 988291\\r\\n...</td>\n",
       "      <td>0</td>\n",
       "    </tr>\n",
       "    <tr>\n",
       "      <th>1</th>\n",
       "      <td>2349</td>\n",
       "      <td>ham</td>\n",
       "      <td>Subject: hpl nom for january 9 , 2001\\r\\n( see...</td>\n",
       "      <td>0</td>\n",
       "    </tr>\n",
       "    <tr>\n",
       "      <th>2</th>\n",
       "      <td>3624</td>\n",
       "      <td>ham</td>\n",
       "      <td>Subject: neon retreat\\r\\nho ho ho , we ' re ar...</td>\n",
       "      <td>0</td>\n",
       "    </tr>\n",
       "    <tr>\n",
       "      <th>3</th>\n",
       "      <td>4685</td>\n",
       "      <td>spam</td>\n",
       "      <td>Subject: photoshop , windows , office . cheap ...</td>\n",
       "      <td>1</td>\n",
       "    </tr>\n",
       "    <tr>\n",
       "      <th>4</th>\n",
       "      <td>2030</td>\n",
       "      <td>ham</td>\n",
       "      <td>Subject: re : indian springs\\r\\nthis deal is t...</td>\n",
       "      <td>0</td>\n",
       "    </tr>\n",
       "    <tr>\n",
       "      <th>...</th>\n",
       "      <td>...</td>\n",
       "      <td>...</td>\n",
       "      <td>...</td>\n",
       "      <td>...</td>\n",
       "    </tr>\n",
       "    <tr>\n",
       "      <th>5166</th>\n",
       "      <td>1518</td>\n",
       "      <td>ham</td>\n",
       "      <td>Subject: put the 10 on the ft\\r\\nthe transport...</td>\n",
       "      <td>0</td>\n",
       "    </tr>\n",
       "    <tr>\n",
       "      <th>5167</th>\n",
       "      <td>404</td>\n",
       "      <td>ham</td>\n",
       "      <td>Subject: 3 / 4 / 2000 and following noms\\r\\nhp...</td>\n",
       "      <td>0</td>\n",
       "    </tr>\n",
       "    <tr>\n",
       "      <th>5168</th>\n",
       "      <td>2933</td>\n",
       "      <td>ham</td>\n",
       "      <td>Subject: calpine daily gas nomination\\r\\n&gt;\\r\\n...</td>\n",
       "      <td>0</td>\n",
       "    </tr>\n",
       "    <tr>\n",
       "      <th>5169</th>\n",
       "      <td>1409</td>\n",
       "      <td>ham</td>\n",
       "      <td>Subject: industrial worksheets for august 2000...</td>\n",
       "      <td>0</td>\n",
       "    </tr>\n",
       "    <tr>\n",
       "      <th>5170</th>\n",
       "      <td>4807</td>\n",
       "      <td>spam</td>\n",
       "      <td>Subject: important online banking alert\\r\\ndea...</td>\n",
       "      <td>1</td>\n",
       "    </tr>\n",
       "  </tbody>\n",
       "</table>\n",
       "<p>5171 rows × 4 columns</p>\n",
       "</div>"
      ],
      "text/plain": [
       "      Unnamed: 0 label                                               text  \\\n",
       "0            605   ham  Subject: enron methanol ; meter # : 988291\\r\\n...   \n",
       "1           2349   ham  Subject: hpl nom for january 9 , 2001\\r\\n( see...   \n",
       "2           3624   ham  Subject: neon retreat\\r\\nho ho ho , we ' re ar...   \n",
       "3           4685  spam  Subject: photoshop , windows , office . cheap ...   \n",
       "4           2030   ham  Subject: re : indian springs\\r\\nthis deal is t...   \n",
       "...          ...   ...                                                ...   \n",
       "5166        1518   ham  Subject: put the 10 on the ft\\r\\nthe transport...   \n",
       "5167         404   ham  Subject: 3 / 4 / 2000 and following noms\\r\\nhp...   \n",
       "5168        2933   ham  Subject: calpine daily gas nomination\\r\\n>\\r\\n...   \n",
       "5169        1409   ham  Subject: industrial worksheets for august 2000...   \n",
       "5170        4807  spam  Subject: important online banking alert\\r\\ndea...   \n",
       "\n",
       "      label_num  \n",
       "0             0  \n",
       "1             0  \n",
       "2             0  \n",
       "3             1  \n",
       "4             0  \n",
       "...         ...  \n",
       "5166          0  \n",
       "5167          0  \n",
       "5168          0  \n",
       "5169          0  \n",
       "5170          1  \n",
       "\n",
       "[5171 rows x 4 columns]"
      ]
     },
     "execution_count": 3,
     "metadata": {},
     "output_type": "execute_result"
    }
   ],
   "source": [
    "df"
   ]
  },
  {
   "cell_type": "code",
   "execution_count": 4,
   "id": "bcd97bc4",
   "metadata": {},
   "outputs": [],
   "source": [
    "df.drop(columns=[\"Unnamed: 0\",\"label\"], inplace=True)"
   ]
  },
  {
   "cell_type": "markdown",
   "id": "e5066b70",
   "metadata": {},
   "source": [
    "Les colonnes 'Unnamed: 0' et 'label' (texte) ont été supprimées car elles n'apportaient pas d'information utile à la modélisation ou étaient redondantes avec 'label_num'. Cela permet de simplifier l'analyse et d'éviter d'introduire du bruit inutile dans le modèle."
   ]
  },
  {
   "cell_type": "code",
   "execution_count": 5,
   "id": "a5ab345d",
   "metadata": {},
   "outputs": [
    {
     "data": {
      "text/plain": [
       "text         0\n",
       "label_num    0\n",
       "dtype: int64"
      ]
     },
     "execution_count": 5,
     "metadata": {},
     "output_type": "execute_result"
    }
   ],
   "source": [
    "df.isnull().sum()"
   ]
  },
  {
   "cell_type": "markdown",
   "id": "259ccaa4",
   "metadata": {},
   "source": [
    "# Analyse exploratoire du dataset\n",
    "Nous allons explorer les principales caractéristiques du jeu de données de messages spam/ham."
   ]
  },
  {
   "cell_type": "code",
   "execution_count": 6,
   "id": "e83cf8b2",
   "metadata": {},
   "outputs": [
    {
     "data": {
      "text/html": [
       "<div>\n",
       "<style scoped>\n",
       "    .dataframe tbody tr th:only-of-type {\n",
       "        vertical-align: middle;\n",
       "    }\n",
       "\n",
       "    .dataframe tbody tr th {\n",
       "        vertical-align: top;\n",
       "    }\n",
       "\n",
       "    .dataframe thead th {\n",
       "        text-align: right;\n",
       "    }\n",
       "</style>\n",
       "<table border=\"1\" class=\"dataframe\">\n",
       "  <thead>\n",
       "    <tr style=\"text-align: right;\">\n",
       "      <th></th>\n",
       "      <th>text</th>\n",
       "      <th>label_num</th>\n",
       "    </tr>\n",
       "  </thead>\n",
       "  <tbody>\n",
       "    <tr>\n",
       "      <th>0</th>\n",
       "      <td>Subject: enron methanol ; meter # : 988291\\r\\n...</td>\n",
       "      <td>0</td>\n",
       "    </tr>\n",
       "    <tr>\n",
       "      <th>1</th>\n",
       "      <td>Subject: hpl nom for january 9 , 2001\\r\\n( see...</td>\n",
       "      <td>0</td>\n",
       "    </tr>\n",
       "    <tr>\n",
       "      <th>2</th>\n",
       "      <td>Subject: neon retreat\\r\\nho ho ho , we ' re ar...</td>\n",
       "      <td>0</td>\n",
       "    </tr>\n",
       "    <tr>\n",
       "      <th>3</th>\n",
       "      <td>Subject: photoshop , windows , office . cheap ...</td>\n",
       "      <td>1</td>\n",
       "    </tr>\n",
       "    <tr>\n",
       "      <th>4</th>\n",
       "      <td>Subject: re : indian springs\\r\\nthis deal is t...</td>\n",
       "      <td>0</td>\n",
       "    </tr>\n",
       "  </tbody>\n",
       "</table>\n",
       "</div>"
      ],
      "text/plain": [
       "                                                text  label_num\n",
       "0  Subject: enron methanol ; meter # : 988291\\r\\n...          0\n",
       "1  Subject: hpl nom for january 9 , 2001\\r\\n( see...          0\n",
       "2  Subject: neon retreat\\r\\nho ho ho , we ' re ar...          0\n",
       "3  Subject: photoshop , windows , office . cheap ...          1\n",
       "4  Subject: re : indian springs\\r\\nthis deal is t...          0"
      ]
     },
     "execution_count": 6,
     "metadata": {},
     "output_type": "execute_result"
    }
   ],
   "source": [
    "# Afficher les premières lignes du DataFrame\n",
    "df.head()"
   ]
  },
  {
   "cell_type": "code",
   "execution_count": 7,
   "id": "9829f035",
   "metadata": {},
   "outputs": [
    {
     "name": "stdout",
     "output_type": "stream",
     "text": [
      "<class 'pandas.core.frame.DataFrame'>\n",
      "RangeIndex: 5171 entries, 0 to 5170\n",
      "Data columns (total 2 columns):\n",
      " #   Column     Non-Null Count  Dtype \n",
      "---  ------     --------------  ----- \n",
      " 0   text       5171 non-null   object\n",
      " 1   label_num  5171 non-null   int64 \n",
      "dtypes: int64(1), object(1)\n",
      "memory usage: 80.9+ KB\n"
     ]
    }
   ],
   "source": [
    "# Afficher des informations générales sur le DataFrame\n",
    "df.info()"
   ]
  },
  {
   "cell_type": "code",
   "execution_count": 8,
   "id": "b4575d36",
   "metadata": {},
   "outputs": [
    {
     "data": {
      "text/plain": [
       "label_num\n",
       "0    3672\n",
       "1    1499\n",
       "Name: count, dtype: int64"
      ]
     },
     "execution_count": 8,
     "metadata": {},
     "output_type": "execute_result"
    }
   ],
   "source": [
    "# Afficher la répartition des classes (spam/ham)\n",
    "df['label_num'].value_counts()"
   ]
  },
  {
   "cell_type": "code",
   "execution_count": 9,
   "id": "6feb7c24",
   "metadata": {},
   "outputs": [
    {
     "data": {
      "text/plain": [
       "label_num\n",
       "0     977.008170\n",
       "1    1223.256171\n",
       "Name: text_length, dtype: float64"
      ]
     },
     "execution_count": 9,
     "metadata": {},
     "output_type": "execute_result"
    }
   ],
   "source": [
    "# Afficher la longueur moyenne des messages pour chaque classe\n",
    "df['text_length'] = df['text'].apply(len)\n",
    "df.groupby('label_num')['text_length'].mean()"
   ]
  },
  {
   "cell_type": "code",
   "execution_count": 10,
   "id": "1bf97f2f",
   "metadata": {},
   "outputs": [
    {
     "data": {
      "image/png": "[encoded data removed]",
      "text/plain": [
       "<Figure size 1000x500 with 1 Axes>"
      ]
     },
     "metadata": {},
     "output_type": "display_data"
    }
   ],
   "source": [
    "# Visualiser la distribution de la longueur des messages introduire label_num{0 = ham, 1 = spam}\n",
    "import matplotlib.pyplot as plt\n",
    "import seaborn as sns\n",
    "plt.figure(figsize=(10,5))\n",
    "sns.histplot(data=df, x='text_length', hue='label_num', bins=50, kde=True)\n",
    "plt.title('Distribution de la longueur des messages (par classe)')\n",
    "plt.xlabel('Longueur du message')\n",
    "plt.ylabel('Nombre de messages')\n",
    "plt.show()"
   ]
  },
  {
   "cell_type": "markdown",
   "id": "83c77314",
   "metadata": {},
   "source": [
    "**Commentaire sur la distribution de la longueur des messages :**\n",
    "\n",
    "On observe que la longueur des messages varie fortement selon la classe. Les messages spam ont tendance à être plus longs que les messages ham (non-spam). Cela peut s'expliquer par le fait que les spams contiennent souvent des informations supplémentaires ou des tentatives de persuasion. Cette différence de longueur peut être une caractéristique utile pour la détection automatique du spam."
   ]
  },
  {
   "cell_type": "markdown",
   "id": "30a3fb73",
   "metadata": {},
   "source": [
    "# Prétraitement du texte\n",
    "Nous allons nettoyer les messages pour faciliter l'apprentissage automatique : mise en minuscules, suppression de la ponctuation, des chiffres et des stopwords."
   ]
  },
  {
   "cell_type": "code",
   "execution_count": 11,
   "id": "db691af0",
   "metadata": {},
   "outputs": [
    {
     "name": "stderr",
     "output_type": "stream",
     "text": [
      "[nltk_data] Downloading package stopwords to\n",
      "[nltk_data]     C:\\Users\\flavi\\AppData\\Roaming\\nltk_data...\n",
      "[nltk_data]   Package stopwords is already up-to-date!\n"
     ]
    },
    {
     "data": {
      "text/html": [
       "<div>\n",
       "<style scoped>\n",
       "    .dataframe tbody tr th:only-of-type {\n",
       "        vertical-align: middle;\n",
       "    }\n",
       "\n",
       "    .dataframe tbody tr th {\n",
       "        vertical-align: top;\n",
       "    }\n",
       "\n",
       "    .dataframe thead th {\n",
       "        text-align: right;\n",
       "    }\n",
       "</style>\n",
       "<table border=\"1\" class=\"dataframe\">\n",
       "  <thead>\n",
       "    <tr style=\"text-align: right;\">\n",
       "      <th></th>\n",
       "      <th>text</th>\n",
       "      <th>text_clean</th>\n",
       "    </tr>\n",
       "  </thead>\n",
       "  <tbody>\n",
       "    <tr>\n",
       "      <th>0</th>\n",
       "      <td>Subject: enron methanol ; meter # : 988291\\r\\n...</td>\n",
       "      <td>subject enron methanol meter follow note gave ...</td>\n",
       "    </tr>\n",
       "    <tr>\n",
       "      <th>1</th>\n",
       "      <td>Subject: hpl nom for january 9 , 2001\\r\\n( see...</td>\n",
       "      <td>subject hpl nom january see attached file hpln...</td>\n",
       "    </tr>\n",
       "    <tr>\n",
       "      <th>2</th>\n",
       "      <td>Subject: neon retreat\\r\\nho ho ho , we ' re ar...</td>\n",
       "      <td>subject neon retreat ho ho ho around wonderful...</td>\n",
       "    </tr>\n",
       "    <tr>\n",
       "      <th>3</th>\n",
       "      <td>Subject: photoshop , windows , office . cheap ...</td>\n",
       "      <td>subject photoshop windows office cheap main tr...</td>\n",
       "    </tr>\n",
       "    <tr>\n",
       "      <th>4</th>\n",
       "      <td>Subject: re : indian springs\\r\\nthis deal is t...</td>\n",
       "      <td>subject indian springs deal book teco pvr reve...</td>\n",
       "    </tr>\n",
       "  </tbody>\n",
       "</table>\n",
       "</div>"
      ],
      "text/plain": [
       "                                                text  \\\n",
       "0  Subject: enron methanol ; meter # : 988291\\r\\n...   \n",
       "1  Subject: hpl nom for january 9 , 2001\\r\\n( see...   \n",
       "2  Subject: neon retreat\\r\\nho ho ho , we ' re ar...   \n",
       "3  Subject: photoshop , windows , office . cheap ...   \n",
       "4  Subject: re : indian springs\\r\\nthis deal is t...   \n",
       "\n",
       "                                          text_clean  \n",
       "0  subject enron methanol meter follow note gave ...  \n",
       "1  subject hpl nom january see attached file hpln...  \n",
       "2  subject neon retreat ho ho ho around wonderful...  \n",
       "3  subject photoshop windows office cheap main tr...  \n",
       "4  subject indian springs deal book teco pvr reve...  "
      ]
     },
     "execution_count": 11,
     "metadata": {},
     "output_type": "execute_result"
    }
   ],
   "source": [
    "import re\n",
    "import string\n",
    "from nltk.corpus import stopwords\n",
    "import nltk\n",
    "nltk.download('stopwords')\n",
    "\n",
    "stop_words = set(stopwords.words('english'))\n",
    "\n",
    "def clean_text(text):\n",
    "\t# Mise en minuscules\n",
    "\ttext = text.lower()\n",
    "\t# Suppression de la ponctuation\n",
    "\ttext = text.translate(str.maketrans('', '', string.punctuation))\n",
    "\t# Suppression des chiffres\n",
    "\ttext = re.sub(r'\\d+', '', text)\n",
    "\t# Suppression des stopwords\n",
    "\ttext = ' '.join([word for word in text.split() if word not in stop_words])\n",
    "\treturn text\n",
    "\n",
    "df['text_clean'] = df['text'].apply(clean_text)\n",
    "df[['text', 'text_clean']].head()"
   ]
  },
  {
   "cell_type": "markdown",
   "id": "fccc0959",
   "metadata": {},
   "source": [
    "# Vectorisation du texte et séparation des données\n",
    "Nous allons transformer les messages nettoyés en vecteurs numériques avec TfidfVectorizer, puis séparer les données en train et test."
   ]
  },
  {
   "cell_type": "code",
   "execution_count": 12,
   "id": "a434a810",
   "metadata": {},
   "outputs": [
    {
     "data": {
      "text/plain": [
       "((4136, 45637), (1035, 45637))"
      ]
     },
     "execution_count": 12,
     "metadata": {},
     "output_type": "execute_result"
    }
   ],
   "source": [
    "from sklearn.feature_extraction.text import TfidfVectorizer\n",
    "from sklearn.model_selection import train_test_split\n",
    "\n",
    "# Vectorisation du texte nettoyé\n",
    "vectorizer = TfidfVectorizer()\n",
    "X = vectorizer.fit_transform(df['text_clean'])\n",
    "y = df['label_num']\n",
    "\n",
    "# Séparation en train/test\n",
    "X_train, X_test, y_train, y_test = train_test_split(X, y, test_size=0.2, random_state=42)\n",
    "\n",
    "X_train.shape, X_test.shape"
   ]
  },
  {
   "cell_type": "markdown",
   "id": "3a02ee3f",
   "metadata": {},
   "source": [
    "# Entraînement d'un modèle de classification\n",
    "Nous allons entraîner un modèle Naive Bayes sur les données vectorisées et évaluer ses performances."
   ]
  },
  {
   "cell_type": "code",
   "execution_count": 13,
   "id": "5d31f9f8",
   "metadata": {},
   "outputs": [
    {
     "name": "stdout",
     "output_type": "stream",
     "text": [
      "Accuracy: 0.9227053140096618\n",
      "\n",
      "Classification report:\n",
      "               precision    recall  f1-score   support\n",
      "\n",
      "           0       0.90      1.00      0.95       742\n",
      "           1       1.00      0.73      0.84       293\n",
      "\n",
      "    accuracy                           0.92      1035\n",
      "   macro avg       0.95      0.86      0.90      1035\n",
      "weighted avg       0.93      0.92      0.92      1035\n",
      "\n",
      "\n",
      "Matrice de confusion:\n",
      " [[742   0]\n",
      " [ 80 213]]\n"
     ]
    }
   ],
   "source": [
    "from sklearn.naive_bayes import MultinomialNB\n",
    "from sklearn.metrics import classification_report, confusion_matrix, accuracy_score\n",
    "\n",
    "# Entraînement du modèle\n",
    "model = MultinomialNB()\n",
    "model.fit(X_train, y_train)\n",
    "\n",
    "# Prédictions sur le jeu de test\n",
    "y_pred = model.predict(X_test)\n",
    "\n",
    "# Évaluation du modèle\n",
    "print('Accuracy:', accuracy_score(y_test, y_pred))\n",
    "print('\\nClassification report:\\n', classification_report(y_test, y_pred))\n",
    "print('\\nMatrice de confusion:\\n', confusion_matrix(y_test, y_pred))"
   ]
  },
  {
   "cell_type": "markdown",
   "id": "ca575251",
   "metadata": {},
   "source": [
    "# Autres approches pour améliorer la détection du spam\n",
    "\n",
    "- **Tester d'autres modèles** :\n",
    "\t- Régression logistique (`LogisticRegression`)\n",
    "\t- Forêt aléatoire (`RandomForestClassifier`)\n",
    "\t- SVM (`LinearSVC`)\n",
    "\t- XGBoost, LightGBM, etc.\n"
   ]
  },
  {
   "cell_type": "markdown",
   "id": "5ce1ca38",
   "metadata": {},
   "source": [
    "# Comparaison avec d'autres modèles de classification\n",
    "Nous allons entraîner et comparer plusieurs modèles classiques : Logistic Regression, Random Forest et SVM linéaire."
   ]
  },
  {
   "cell_type": "code",
   "execution_count": 14,
   "id": "fd476f8f",
   "metadata": {},
   "outputs": [
    {
     "name": "stdout",
     "output_type": "stream",
     "text": [
      "\n",
      "Logistic Regression\n",
      "Accuracy: 0.9845\n",
      "              precision    recall  f1-score   support\n",
      "\n",
      "           0       1.00      0.98      0.99       742\n",
      "           1       0.96      0.99      0.97       293\n",
      "\n",
      "    accuracy                           0.98      1035\n",
      "   macro avg       0.98      0.99      0.98      1035\n",
      "weighted avg       0.98      0.98      0.98      1035\n",
      "\n",
      "\n",
      "Matrice de confusion:\n",
      " [[729  13]\n",
      " [  3 290]]\n",
      "\n",
      "Random Forest\n",
      "Accuracy: 0.9874\n",
      "              precision    recall  f1-score   support\n",
      "\n",
      "           0       1.00      0.99      0.99       742\n",
      "           1       0.97      0.99      0.98       293\n",
      "\n",
      "    accuracy                           0.99      1035\n",
      "   macro avg       0.98      0.99      0.98      1035\n",
      "weighted avg       0.99      0.99      0.99      1035\n",
      "\n",
      "\n",
      "Matrice de confusion:\n",
      " [[732  10]\n",
      " [  3 290]]\n",
      "\n",
      "Linear SVC\n",
      "Accuracy: 0.9894\n",
      "              precision    recall  f1-score   support\n",
      "\n",
      "           0       1.00      0.99      0.99       742\n",
      "           1       0.97      0.99      0.98       293\n",
      "\n",
      "    accuracy                           0.99      1035\n",
      "   macro avg       0.98      0.99      0.99      1035\n",
      "weighted avg       0.99      0.99      0.99      1035\n",
      "\n",
      "\n",
      "Matrice de confusion:\n",
      " [[733   9]\n",
      " [  2 291]]\n"
     ]
    },
    {
     "name": "stderr",
     "output_type": "stream",
     "text": [
      "c:\\Users\\flavi\\AppData\\Local\\Programs\\Python\\Python313\\Lib\\site-packages\\xgboost\\training.py:183: UserWarning: [22:36:48] WARNING: C:\\actions-runner\\_work\\xgboost\\xgboost\\src\\learner.cc:738: \n",
      "Parameters: { \"use_label_encoder\" } are not used.\n",
      "\n",
      "  bst.update(dtrain, iteration=i, fobj=obj)\n"
     ]
    },
    {
     "name": "stdout",
     "output_type": "stream",
     "text": [
      "\n",
      "XGBoost\n",
      "Accuracy: 0.9739\n",
      "              precision    recall  f1-score   support\n",
      "\n",
      "           0       0.99      0.97      0.98       742\n",
      "           1       0.93      0.99      0.96       293\n",
      "\n",
      "    accuracy                           0.97      1035\n",
      "   macro avg       0.96      0.98      0.97      1035\n",
      "weighted avg       0.98      0.97      0.97      1035\n",
      "\n",
      "\n",
      "Matrice de confusion:\n",
      " [[719  23]\n",
      " [  4 289]]\n",
      "[LightGBM] [Info] Number of positive: 1206, number of negative: 2930\n",
      "[LightGBM] [Info] Auto-choosing row-wise multi-threading, the overhead of testing was 0.029499 seconds.\n",
      "You can set `force_row_wise=true` to remove the overhead.\n",
      "And if memory is not enough, you can set `force_col_wise=true`.\n",
      "[LightGBM] [Info] Total Bins 56289\n",
      "[LightGBM] [Info] Number of data points in the train set: 4136, number of used features: 2217\n",
      "[LightGBM] [Info] [binary:BoostFromScore]: pavg=0.291586 -> initscore=-0.887693\n",
      "[LightGBM] [Info] Start training from score -0.887693\n",
      "\n",
      "LightGBM\n",
      "Accuracy: 0.9739\n",
      "              precision    recall  f1-score   support\n",
      "\n",
      "           0       0.99      0.97      0.98       742\n",
      "           1       0.93      0.99      0.96       293\n",
      "\n",
      "    accuracy                           0.97      1035\n",
      "   macro avg       0.96      0.98      0.97      1035\n",
      "weighted avg       0.98      0.97      0.97      1035\n",
      "\n",
      "\n",
      "Matrice de confusion:\n",
      " [[719  23]\n",
      " [  4 289]]\n"
     ]
    },
    {
     "name": "stderr",
     "output_type": "stream",
     "text": [
      "c:\\Users\\flavi\\AppData\\Local\\Programs\\Python\\Python313\\Lib\\site-packages\\sklearn\\utils\\validation.py:2749: UserWarning: X does not have valid feature names, but LGBMClassifier was fitted with feature names\n",
      "  warnings.warn(\n"
     ]
    }
   ],
   "source": [
    "from sklearn.linear_model import LogisticRegression\n",
    "from sklearn.ensemble import RandomForestClassifier\n",
    "from sklearn.svm import LinearSVC\n",
    "from xgboost import XGBClassifier\n",
    "from lightgbm import LGBMClassifier\n",
    "from sklearn.metrics import accuracy_score, classification_report, confusion_matrix\n",
    "\n",
    "models = {\n",
    "\t'Logistic Regression': LogisticRegression(max_iter=1000),\n",
    "\t'Random Forest': RandomForestClassifier(n_estimators=100),\n",
    "\t'Linear SVC': LinearSVC(max_iter=10000),\n",
    "\t'XGBoost': XGBClassifier(use_label_encoder=False, eval_metric='mlogloss'),\n",
    "\t'LightGBM': LGBMClassifier()\n",
    "}\n",
    "\n",
    "for name, clf in models.items():\n",
    "\tclf.fit(X_train, y_train)\n",
    "\ty_pred = clf.predict(X_test)\n",
    "\tacc = accuracy_score(y_test, y_pred)\n",
    "\tprint(f\"\\n{name}\")\n",
    "\tprint(f\"Accuracy: {acc:.4f}\")\n",
    "\tprint(classification_report(y_test, y_pred))\n",
    "\tprint('\\nMatrice de confusion:\\n', confusion_matrix(y_test, y_pred))"
   ]
  },
  {
   "cell_type": "code",
   "execution_count": 15,
   "id": "3488be29",
   "metadata": {},
   "outputs": [
    {
     "data": {
      "image/png": "[encoded data removed]",
      "text/plain": [
       "<Figure size 600x400 with 2 Axes>"
      ]
     },
     "metadata": {},
     "output_type": "display_data"
    }
   ],
   "source": [
    "# Visualisation de la matrice de confusion pour le meilleur modèle\n",
    "import matplotlib.pyplot as plt\n",
    "import seaborn as sns\n",
    "\n",
    "# Exemple avec le modèle Linear SVC\n",
    "best_model = LinearSVC()\n",
    "best_model.fit(X_train, y_train)\n",
    "y_pred_best = best_model.predict(X_test)\n",
    "cm = confusion_matrix(y_test, y_pred_best)\n",
    "\n",
    "plt.figure(figsize=(6,4))\n",
    "sns.heatmap(cm, annot=True, fmt='d', cmap='Blues', xticklabels=['ham','spam'], yticklabels=['ham','spam'])\n",
    "plt.xlabel('Prédit')\n",
    "plt.ylabel('Réel')\n",
    "plt.title('Matrice de confusion - Random Forest')\n",
    "plt.show()"
   ]
  },
  {
   "cell_type": "markdown",
   "id": "84f7e96d",
   "metadata": {},
   "source": [
    "# Optimisation des hyperparamètres\n",
    "\n",
    "Pour améliorer encore les performances, tu peux utiliser GridSearchCV ou RandomizedSearchCV pour trouver les meilleurs paramètres des modèles. Par exemple, voici comment faire pour Random Forest."
   ]
  },
  {
   "cell_type": "code",
   "execution_count": 16,
   "id": "053dc7c1",
   "metadata": {},
   "outputs": [
    {
     "name": "stdout",
     "output_type": "stream",
     "text": [
      "Fitting 3 folds for each of 80 candidates, totalling 240 fits\n",
      "Meilleurs paramètres : {'max_depth': None, 'min_samples_split': 4, 'n_estimators': 350}\n",
      "Score sur le test set : 0.9884057971014493\n"
     ]
    }
   ],
   "source": [
    "from sklearn.model_selection import GridSearchCV\n",
    "\n",
    "param_grid = {\n",
    "\t'n_estimators': [250, 275, 300, 350, 400],\n",
    "\t'max_depth': [None, 1, 2, 5],\n",
    "\t'min_samples_split': [2, 3, 4, 5]\n",
    "}\n",
    "\n",
    "grid = GridSearchCV(RandomForestClassifier(), param_grid, cv=3, n_jobs=-1, verbose=1)\n",
    "grid.fit(X_train, y_train)\n",
    "\n",
    "print('Meilleurs paramètres :', grid.best_params_)\n",
    "print('Score sur le test set :', grid.score(X_test, y_test))"
   ]
  },
  {
   "cell_type": "code",
   "execution_count": 17,
   "id": "912eada9",
   "metadata": {},
   "outputs": [
    {
     "data": {
      "image/png": "[encoded data removed]",
      "text/plain": [
       "<Figure size 500x400 with 2 Axes>"
      ]
     },
     "metadata": {},
     "output_type": "display_data"
    }
   ],
   "source": [
    "# Matrice de confusion avec le Random Forest optimisé (GridSearchCV)\n",
    "from sklearn.metrics import confusion_matrix, ConfusionMatrixDisplay\n",
    "\n",
    "# Prédictions avec le meilleur modèle trouvé par GridSearchCV\n",
    "y_pred_grid = grid.predict(X_test)\n",
    "\n",
    "# Calcul et affichage de la matrice de confusion\n",
    "cm_grid = confusion_matrix(y_test, y_pred_grid)\n",
    "disp_grid = ConfusionMatrixDisplay(confusion_matrix=cm_grid, display_labels=['ham', 'spam'])\n",
    "fig, ax = plt.subplots(figsize=(5,4))\n",
    "disp_grid.plot(ax=ax, cmap='Greens')\n",
    "plt.title('Matrice de confusion - Random Forest (GridSearchCV)')\n",
    "plt.show()"
   ]
  },
  {
   "cell_type": "code",
   "execution_count": 18,
   "id": "7d452498",
   "metadata": {},
   "outputs": [
    {
     "name": "stdout",
     "output_type": "stream",
     "text": [
      "Fitting 3 folds for each of 12 candidates, totalling 36 fits\n",
      "Meilleurs paramètres : {'C': 1.5, 'max_iter': 5}\n",
      "Score sur le test set : 0.9893719806763285\n"
     ]
    },
    {
     "name": "stderr",
     "output_type": "stream",
     "text": [
      "c:\\Users\\flavi\\AppData\\Local\\Programs\\Python\\Python313\\Lib\\site-packages\\sklearn\\svm\\_base.py:1250: ConvergenceWarning: Liblinear failed to converge, increase the number of iterations.\n",
      "  warnings.warn(\n"
     ]
    }
   ],
   "source": [
    "# Définir la grille de paramètres à tester\n",
    "param_grid = {\n",
    "    'C': [0.5, 1, 1.5],\n",
    "    'max_iter': [5, 10 ,25, 50]\n",
    "}\n",
    "\n",
    "# Instancier GridSearchCV avec LinearSVC\n",
    "grid = GridSearchCV(LinearSVC(), param_grid, cv=3, n_jobs=-1, verbose=1)\n",
    "grid.fit(X_train, y_train)\n",
    "\n",
    "print('Meilleurs paramètres :', grid.best_params_)\n",
    "print('Score sur le test set :', grid.score(X_test, y_test))"
   ]
  },
  {
   "cell_type": "code",
   "execution_count": 24,
   "id": "adf24cb0",
   "metadata": {},
   "outputs": [
    {
     "data": {
      "image/png": "[encoded data removed]",
      "text/plain": [
       "<Figure size 500x400 with 2 Axes>"
      ]
     },
     "metadata": {},
     "output_type": "display_data"
    }
   ],
   "source": [
    "# Prédictions avec le meilleur modèle trouvé par LinearSVC\n",
    "y_pred_grid = grid.predict(X_test)\n",
    "\n",
    "# Calcul et affichage de la matrice de confusion\n",
    "cm_grid = confusion_matrix(y_test, y_pred_grid)\n",
    "disp_grid = ConfusionMatrixDisplay(confusion_matrix=cm_grid, display_labels=['ham', 'spam'])\n",
    "fig, ax = plt.subplots(figsize=(5,4))\n",
    "disp_grid.plot(ax=ax, cmap='Greens')\n",
    "plt.title('Matrice de confusion - Linear SVC (GridSearchCV)')\n",
    "plt.show()"
   ]
  },
  {
   "cell_type": "markdown",
   "id": "aa7d9e58",
   "metadata": {},
   "source": [
    "# Modèle de classification avec PyTorch\n",
    "\n",
    "Voici un exemple simple d'entraînement d'un perceptron multicouche (MLP) avec PyTorch sur les données vectorisées."
   ]
  },
  {
   "cell_type": "code",
   "execution_count": 20,
   "id": "3eb20ac3",
   "metadata": {},
   "outputs": [],
   "source": [
    "import torch\n",
    "import torch.nn as nn\n",
    "import torch.optim as optim\n",
    "from torch.utils.data import TensorDataset, DataLoader\n",
    "\n",
    "# Conversion des données en tenseurs torch\n",
    "X_train_torch = torch.tensor(X_train.toarray(), dtype=torch.float32)\n",
    "X_test_torch = torch.tensor(X_test.toarray(), dtype=torch.float32)\n",
    "y_train_torch = torch.tensor(y_train.values, dtype=torch.float32)\n",
    "y_test_torch = torch.tensor(y_test.values, dtype=torch.float32)\n",
    "\n",
    "# Dataset et DataLoader\n",
    "train_dataset = TensorDataset(X_train_torch, y_train_torch)\n",
    "test_dataset = TensorDataset(X_test_torch, y_test_torch)\n",
    "train_loader = DataLoader(train_dataset, batch_size=64, shuffle=True)\n",
    "\n",
    "# Modèle MLP simple\n",
    "class MLP(nn.Module):\n",
    "\tdef __init__(self, input_dim):\n",
    "\t\tsuper().__init__()\n",
    "\t\tself.fc1 = nn.Linear(input_dim, 128)\n",
    "\t\tself.relu = nn.ReLU()\n",
    "\t\tself.fc2 = nn.Linear(128, 1)\n",
    "\t\tself.sigmoid = nn.Sigmoid()\n",
    "\tdef forward(self, x):\n",
    "\t\tx = self.fc1(x)\n",
    "\t\tx = self.relu(x)\n",
    "\t\tx = self.fc2(x)\n",
    "\t\tx = self.sigmoid(x)\n",
    "\t\treturn x\n",
    "\n",
    "model = MLP(X_train.shape[1])\n",
    "criterion = nn.BCELoss()\n",
    "optimizer = optim.Adam(model.parameters(), lr=0.001)\n"
   ]
  },
  {
   "cell_type": "code",
   "execution_count": 21,
   "id": "6bc47ea6",
   "metadata": {},
   "outputs": [
    {
     "name": "stdout",
     "output_type": "stream",
     "text": [
      "Epoch 1, Train Loss: 0.5194, Val Loss: 0.2871, Val Acc: 0.9739\n",
      "Epoch 2, Train Loss: 0.1521, Val Loss: 0.1080, Val Acc: 0.9845\n",
      "Epoch 3, Train Loss: 0.0500, Val Loss: 0.0694, Val Acc: 0.9903\n",
      "Epoch 4, Train Loss: 0.0242, Val Loss: 0.0543, Val Acc: 0.9903\n",
      "Epoch 5, Train Loss: 0.0143, Val Loss: 0.0471, Val Acc: 0.9903\n",
      "Epoch 6, Train Loss: 0.0094, Val Loss: 0.0430, Val Acc: 0.9913\n",
      "Epoch 7, Train Loss: 0.0066, Val Loss: 0.0402, Val Acc: 0.9913\n",
      "Epoch 8, Train Loss: 0.0049, Val Loss: 0.0384, Val Acc: 0.9913\n",
      "Epoch 9, Train Loss: 0.0038, Val Loss: 0.0369, Val Acc: 0.9913\n",
      "Epoch 10, Train Loss: 0.0030, Val Loss: 0.0359, Val Acc: 0.9913\n",
      "Epoch 11, Train Loss: 0.0024, Val Loss: 0.0353, Val Acc: 0.9913\n",
      "Epoch 12, Train Loss: 0.0020, Val Loss: 0.0345, Val Acc: 0.9913\n",
      "Epoch 13, Train Loss: 0.0017, Val Loss: 0.0340, Val Acc: 0.9913\n",
      "Epoch 14, Train Loss: 0.0014, Val Loss: 0.0336, Val Acc: 0.9913\n",
      "Epoch 15, Train Loss: 0.0012, Val Loss: 0.0333, Val Acc: 0.9913\n",
      "Epoch 16, Train Loss: 0.0011, Val Loss: 0.0330, Val Acc: 0.9913\n",
      "Epoch 17, Train Loss: 0.0009, Val Loss: 0.0327, Val Acc: 0.9913\n",
      "Epoch 18, Train Loss: 0.0008, Val Loss: 0.0325, Val Acc: 0.9913\n",
      "Epoch 19, Train Loss: 0.0007, Val Loss: 0.0324, Val Acc: 0.9913\n",
      "Epoch 20, Train Loss: 0.0007, Val Loss: 0.0322, Val Acc: 0.9913\n",
      "Epoch 21, Train Loss: 0.0006, Val Loss: 0.0321, Val Acc: 0.9913\n",
      "Epoch 22, Train Loss: 0.0005, Val Loss: 0.0320, Val Acc: 0.9913\n",
      "Epoch 23, Train Loss: 0.0005, Val Loss: 0.0319, Val Acc: 0.9913\n",
      "Epoch 24, Train Loss: 0.0004, Val Loss: 0.0318, Val Acc: 0.9913\n",
      "Epoch 25, Train Loss: 0.0004, Val Loss: 0.0318, Val Acc: 0.9913\n",
      "Epoch 26, Train Loss: 0.0004, Val Loss: 0.0318, Val Acc: 0.9913\n",
      "Epoch 27, Train Loss: 0.0003, Val Loss: 0.0317, Val Acc: 0.9913\n",
      "Epoch 28, Train Loss: 0.0003, Val Loss: 0.0317, Val Acc: 0.9913\n",
      "Epoch 29, Train Loss: 0.0003, Val Loss: 0.0316, Val Acc: 0.9913\n",
      "Epoch 30, Train Loss: 0.0003, Val Loss: 0.0316, Val Acc: 0.9913\n",
      "Epoch 31, Train Loss: 0.0002, Val Loss: 0.0316, Val Acc: 0.9913\n",
      "Epoch 32, Train Loss: 0.0002, Val Loss: 0.0316, Val Acc: 0.9913\n",
      "Epoch 33, Train Loss: 0.0002, Val Loss: 0.0316, Val Acc: 0.9913\n",
      "Epoch 34, Train Loss: 0.0002, Val Loss: 0.0316, Val Acc: 0.9913\n",
      "Epoch 35, Train Loss: 0.0002, Val Loss: 0.0316, Val Acc: 0.9913\n",
      "Epoch 36, Train Loss: 0.0002, Val Loss: 0.0315, Val Acc: 0.9903\n",
      "Epoch 37, Train Loss: 0.0002, Val Loss: 0.0316, Val Acc: 0.9903\n",
      "Epoch 38, Train Loss: 0.0002, Val Loss: 0.0315, Val Acc: 0.9903\n",
      "Epoch 39, Train Loss: 0.0001, Val Loss: 0.0316, Val Acc: 0.9903\n",
      "Epoch 40, Train Loss: 0.0001, Val Loss: 0.0316, Val Acc: 0.9903\n",
      "Epoch 41, Train Loss: 0.0001, Val Loss: 0.0316, Val Acc: 0.9903\n",
      "Epoch 42, Train Loss: 0.0001, Val Loss: 0.0316, Val Acc: 0.9903\n",
      "Epoch 43, Train Loss: 0.0001, Val Loss: 0.0316, Val Acc: 0.9903\n",
      "Epoch 44, Train Loss: 0.0001, Val Loss: 0.0316, Val Acc: 0.9903\n",
      "Epoch 45, Train Loss: 0.0001, Val Loss: 0.0317, Val Acc: 0.9903\n",
      "Epoch 46, Train Loss: 0.0001, Val Loss: 0.0317, Val Acc: 0.9903\n",
      "Epoch 47, Train Loss: 0.0001, Val Loss: 0.0317, Val Acc: 0.9903\n",
      "Epoch 48, Train Loss: 0.0001, Val Loss: 0.0317, Val Acc: 0.9903\n",
      "Epoch 49, Train Loss: 0.0001, Val Loss: 0.0318, Val Acc: 0.9903\n",
      "Epoch 50, Train Loss: 0.0001, Val Loss: 0.0318, Val Acc: 0.9903\n"
     ]
    }
   ],
   "source": [
    "# Calcul de la loss sur le jeu de validation à chaque epoch\n",
    "val_losses = []\n",
    "train_losses = []\n",
    "val_accuracies = []\n",
    "\n",
    "for epoch in range(50):\n",
    "\tmodel.train()\n",
    "\tepoch_loss = 0\n",
    "\tfor xb, yb in train_loader:\n",
    "\t\toptimizer.zero_grad()\n",
    "\t\toutputs = model(xb).squeeze()\n",
    "\t\tloss = criterion(outputs, yb)\n",
    "\t\tloss.backward()\n",
    "\t\toptimizer.step()\n",
    "\t\tepoch_loss += loss.item()\n",
    "\ttrain_losses.append(epoch_loss / len(train_loader))\n",
    "\t# Loss sur le test set\n",
    "\tmodel.eval()\n",
    "\twith torch.no_grad():\n",
    "\t\ty_pred = model(X_test_torch).squeeze().round().numpy()\n",
    "\t\toutputs_val = model(X_test_torch).squeeze()\n",
    "\t\tval_loss = criterion(outputs_val, y_test_torch).item()\n",
    "\t\tval_losses.append(val_loss)\n",
    "\t\tval_acc = accuracy_score(y_test, y_pred)\n",
    "\t\tval_accuracies.append(val_acc)\n",
    "\tprint(f\"Epoch {epoch+1}, Train Loss: {train_losses[-1]:.4f}, Val Loss: {val_loss:.4f}, Val Acc: {val_acc:.4f}\")\n",
    "\n"
   ]
  },
  {
   "cell_type": "code",
   "execution_count": 22,
   "id": "7752782b",
   "metadata": {},
   "outputs": [
    {
     "data": {
      "image/png": "[encoded data removed]",
      "text/plain": [
       "<Figure size 800x500 with 1 Axes>"
      ]
     },
     "metadata": {},
     "output_type": "display_data"
    }
   ],
   "source": [
    "# Tracer les courbes de loss train et validation\n",
    "plt.figure(figsize=(8,5))\n",
    "plt.plot(train_losses, label='Train Loss', color='blue')\n",
    "plt.plot(val_losses, label='Validation Loss', color='red')\n",
    "plt.xlabel('Epoch')\n",
    "plt.ylabel('Loss')\n",
    "plt.title('Courbes de loss (train en bleu, validation en rouge)')\n",
    "plt.legend()\n",
    "plt.show()"
   ]
  },
  {
   "cell_type": "markdown",
   "id": "cb5f540c",
   "metadata": {},
   "source": [
    "**Analyse  des courbes de loss**\n",
    "\n",
    " Après analyse des courbes de loss obtenues lors de l'entraînement du modèle, nous constatons que la fonction de perte (loss) sur les données d'entraînement et de validation diminue rapidement puis se stabilise à un niveau faible. L'écart entre la courbe d'entraînement (bleue) et celle de validation (rouge) reste faible et constant tout au long de l'apprentissage.\n",
    "\n",
    " Ce comportement indique que le modèle apprend efficacement à partir des données sans tomber dans le surapprentissage. La stabilité et la proximité des deux courbes montrent que le modèle généralise bien et qu'il est capable de maintenir de bonnes performances sur des données nouvelles et non vues pendant l'entraînement.\n",
    "\n",
    " En conclusion, le modèle est fiable et robuste pour la détection de spam sur ce jeu de données. Aucun ajustement supplémentaire n'est nécessaire à ce stade pour garantir la qualité des prédictions."
   ]
  },
  {
   "cell_type": "code",
   "execution_count": 23,
   "id": "874f9b0d",
   "metadata": {},
   "outputs": [
    {
     "data": {
      "image/png": "[encoded data removed]",
      "text/plain": [
       "<Figure size 500x400 with 2 Axes>"
      ]
     },
     "metadata": {},
     "output_type": "display_data"
    }
   ],
   "source": [
    "# Matrice de confusion pour le modèle PyTorch (MLP)\n",
    "from sklearn.metrics import confusion_matrix, ConfusionMatrixDisplay\n",
    "\n",
    "# Prédictions du modèle PyTorch sur le jeu de test\n",
    "model.eval()\n",
    "with torch.no_grad():\n",
    "    y_pred_torch = model(X_test_torch).squeeze().round().numpy()\n",
    "\n",
    "# Calcul et affichage de la matrice de confusion\n",
    "cm_torch = confusion_matrix(y_test, y_pred_torch)\n",
    "disp_torch = ConfusionMatrixDisplay(confusion_matrix=cm_torch, display_labels=['ham', 'spam'])\n",
    "fig, ax = plt.subplots(figsize=(5,4))\n",
    "disp_torch.plot(ax=ax, cmap='Purples')\n",
    "plt.title('Matrice de confusion - MLP PyTorch')\n",
    "plt.show()"
   ]
  },
  {
   "cell_type": "markdown",
   "id": "700c4421",
   "metadata": {},
   "source": [
    "# Conclusion\n",
    "\n",
    "Ce projet a permis de comparer plusieurs modèles de machine learning pour la détection de spams dans des emails, à partir d'un dataset public Kaggle.\n",
    "\n",
    "## Synthèse des performances\n",
    "\n",
    "- **Linear SVC** est le modèle le plus performant avec une accuracy de 0.9893, un f1-score élevé pour les deux classes, et une matrice de confusion très équilibrée :\n",
    "    - ham : 733/742 bien classés, spam : 291/293 bien classés.\n",
    "- **Logistic Regression** et **Random Forest** obtiennent aussi d'excellents résultats (accuracy ≈ 0.98), avec très peu d'erreurs sur les deux classes.\n",
    "- **XGBoost** et **LightGBM** affichent une accuracy légèrement inférieure (0.9739), principalement à cause d'un nombre un peu plus élevé de faux positifs (ham classés comme spam).\n",
    "- Tous les modèles testés présentent un très bon équilibre entre précision et rappel, et un faible taux d'erreur.\n",
    "\n",
    "## Interprétation\n",
    "\n",
    "- Les modèles linéaires (SVC, Logistic Regression) et les forêts aléatoires sont très efficaces sur ce jeu de données.\n",
    "- Les modèles boosting (XGBoost, LightGBM) restent très compétitifs mais légèrement moins précis ici.\n",
    "- Les matrices de confusion montrent que les erreurs sont rares et concernent surtout quelques ham classés à tort comme spam.\n",
    "\n"
   ]
  },
  {
   "cell_type": "markdown",
   "id": "9195ab85",
   "metadata": {},
   "source": [
    "**Quel est le meilleur modèle ?**\n",
    "\n",
    "\n",
    "Après l'analyse détaillée des résultats, deux modèles se démarquent nettement :\n",
    "\n",
    "- **Linear SVC** : il obtient la meilleure accuracy (0.9893), un équilibre quasi parfait entre précision et rappel, et le plus faible nombre d’erreurs (2 faux négatifs et 9 faux positifs seulement).\n",
    "\n",
    "- **MLP PyTorch** : il affiche également d’excellentes performances, avec une accuracy de validation autour de 99,1 %, une matrice de confusion très équilibrée (seulement 5 faux positifs et 5 faux négatifs), et une très bonne généralisation (pas de surapprentissage observé sur les courbes de loss).\n",
    "\n",
    "\n",
    "Les autres modèles (Random Forest, Logistic Regression, XGBoost, LightGBM) restent très performants mais font légèrement plus d’erreurs sur les spams ou les hams.\n",
    "\n",
    "**En résumé : Linear SVC et MLP PyTorch sont les modèles à privilégier pour ce problème de détection de spam, car ils combinent robustesse, rapidité d’entraînement (pour SVC), flexibilité (pour PyTorch) et excellentes performances sur toutes les métriques.**"
   ]
  }
 ],
 "metadata": {
  "kernelspec": {
   "display_name": "Python 3",
   "language": "python",
   "name": "python3"
  },
  "language_info": {
   "codemirror_mode": {
    "name": "ipython",
    "version": 3
   },
   "file_extension": ".py",
   "mimetype": "text/x-python",
   "name": "python",
   "nbconvert_exporter": "python",
   "pygments_lexer": "ipython3",
   "version": "3.13.3"
  }
 },
 "nbformat": 4,
 "nbformat_minor": 5
}
